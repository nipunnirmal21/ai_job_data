{
  "nbformat": 4,
  "nbformat_minor": 0,
  "metadata": {
    "colab": {
      "provenance": [],
      "authorship_tag": "ABX9TyMRdAHGpXdyNz63OP0ewkG7",
      "include_colab_link": true
    },
    "kernelspec": {
      "name": "python3",
      "display_name": "Python 3"
    },
    "language_info": {
      "name": "python"
    }
  },
  "cells": [
    {
      "cell_type": "markdown",
      "metadata": {
        "id": "view-in-github",
        "colab_type": "text"
      },
      "source": [
        "<a href=\"https://colab.research.google.com/github/nipunnirmal21/ai_job_data/blob/main/ai_job_data.ipynb\" target=\"_parent\"><img src=\"https://colab.research.google.com/assets/colab-badge.svg\" alt=\"Open In Colab\"/></a>"
      ]
    },
    {
      "cell_type": "code",
      "execution_count": 1,
      "metadata": {
        "id": "19ixYo3Kzpp7"
      },
      "outputs": [],
      "source": [
        "import pandas as pd\n",
        "from sklearn.model_selection import train_test_split\n",
        "from sklearn.preprocessing import OneHotEncoder, LabelEncoder\n",
        "from sklearn.compose import ColumnTransformer\n",
        "from sklearn.pipeline import Pipeline\n",
        "from sklearn.ensemble import RandomForestClassifier\n",
        "from sklearn.metrics import accuracy_score, classification_report\n",
        "import io"
      ]
    },
    {
      "cell_type": "code",
      "source": [
        "df = pd.read_csv('/content/sample_data/ai_job_dataset.csv')"
      ],
      "metadata": {
        "id": "sbjMb8wlLTO6"
      },
      "execution_count": 3,
      "outputs": []
    },
    {
      "cell_type": "code",
      "source": [
        "from google.colab import drive\n",
        "drive.mount('/content/drive')"
      ],
      "metadata": {
        "colab": {
          "base_uri": "https://localhost:8080/"
        },
        "id": "PAYLa7MFLd2Y",
        "outputId": "feb71e5b-5339-4775-a893-21d7afdb889a"
      },
      "execution_count": 4,
      "outputs": [
        {
          "output_type": "stream",
          "name": "stdout",
          "text": [
            "Mounted at /content/drive\n"
          ]
        }
      ]
    },
    {
      "cell_type": "code",
      "source": [
        "print(\"--- First 5 Rows of the Dataset: ---\")\n",
        "print(df.head())\n",
        "\n",
        "print(\"\\n--- Basic Information about the Dataset: ---\")\n",
        "df.info()"
      ],
      "metadata": {
        "colab": {
          "base_uri": "https://localhost:8080/"
        },
        "id": "cMVDIRWYSzJL",
        "outputId": "fa4835d8-cca7-4574-e0a0-b128d746bae1"
      },
      "execution_count": 5,
      "outputs": [
        {
          "output_type": "stream",
          "name": "stdout",
          "text": [
            "--- First 5 Rows of the Dataset: ---\n",
            "    job_id              job_title  salary_usd salary_currency  \\\n",
            "0  AI00001  AI Research Scientist       90376             USD   \n",
            "1  AI00002   AI Software Engineer       61895             USD   \n",
            "2  AI00003          AI Specialist      152626             USD   \n",
            "3  AI00004           NLP Engineer       80215             USD   \n",
            "4  AI00005          AI Consultant       54624             EUR   \n",
            "\n",
            "  experience_level employment_type company_location company_size  \\\n",
            "0               SE              CT            China            M   \n",
            "1               EN              CT           Canada            M   \n",
            "2               MI              FL      Switzerland            L   \n",
            "3               SE              FL            India            M   \n",
            "4               EN              PT           France            S   \n",
            "\n",
            "  employee_residence  remote_ratio  \\\n",
            "0              China            50   \n",
            "1            Ireland           100   \n",
            "2        South Korea             0   \n",
            "3              India            50   \n",
            "4          Singapore           100   \n",
            "\n",
            "                                   required_skills education_required  \\\n",
            "0         Tableau, PyTorch, Kubernetes, Linux, NLP           Bachelor   \n",
            "1  Deep Learning, AWS, Mathematics, Python, Docker             Master   \n",
            "2     Kubernetes, Deep Learning, Java, Hadoop, NLP          Associate   \n",
            "3                        Scala, SQL, Linux, Python                PhD   \n",
            "4                     MLOps, Java, Tableau, Python             Master   \n",
            "\n",
            "   years_experience    industry posting_date application_deadline  \\\n",
            "0                 9  Automotive   2024-10-18           2024-11-07   \n",
            "1                 1       Media   2024-11-20           2025-01-11   \n",
            "2                 2   Education   2025-03-18           2025-04-07   \n",
            "3                 7  Consulting   2024-12-23           2025-02-24   \n",
            "4                 0       Media   2025-04-15           2025-06-23   \n",
            "\n",
            "   job_description_length  benefits_score       company_name  \n",
            "0                    1076             5.9    Smart Analytics  \n",
            "1                    1268             5.2       TechCorp Inc  \n",
            "2                    1974             9.4    Autonomous Tech  \n",
            "3                    1345             8.6     Future Systems  \n",
            "4                    1989             6.6  Advanced Robotics  \n",
            "\n",
            "--- Basic Information about the Dataset: ---\n",
            "<class 'pandas.core.frame.DataFrame'>\n",
            "RangeIndex: 15000 entries, 0 to 14999\n",
            "Data columns (total 19 columns):\n",
            " #   Column                  Non-Null Count  Dtype  \n",
            "---  ------                  --------------  -----  \n",
            " 0   job_id                  15000 non-null  object \n",
            " 1   job_title               15000 non-null  object \n",
            " 2   salary_usd              15000 non-null  int64  \n",
            " 3   salary_currency         15000 non-null  object \n",
            " 4   experience_level        15000 non-null  object \n",
            " 5   employment_type         15000 non-null  object \n",
            " 6   company_location        15000 non-null  object \n",
            " 7   company_size            15000 non-null  object \n",
            " 8   employee_residence      15000 non-null  object \n",
            " 9   remote_ratio            15000 non-null  int64  \n",
            " 10  required_skills         15000 non-null  object \n",
            " 11  education_required      15000 non-null  object \n",
            " 12  years_experience        15000 non-null  int64  \n",
            " 13  industry                15000 non-null  object \n",
            " 14  posting_date            15000 non-null  object \n",
            " 15  application_deadline    15000 non-null  object \n",
            " 16  job_description_length  15000 non-null  int64  \n",
            " 17  benefits_score          15000 non-null  float64\n",
            " 18  company_name            15000 non-null  object \n",
            "dtypes: float64(1), int64(4), object(14)\n",
            "memory usage: 2.2+ MB\n"
          ]
        }
      ]
    },
    {
      "cell_type": "code",
      "source": [
        "features = ['job_title', 'company_size', 'employment_type', 'industry']\n",
        "target = 'experience_level'\n",
        "\n",
        "df_clean = df[features + [target]].dropna()"
      ],
      "metadata": {
        "id": "oltgtlhcVHqj"
      },
      "execution_count": 6,
      "outputs": []
    },
    {
      "cell_type": "code",
      "source": [
        "X = df_clean[features]\n",
        "y = df_clean[target]\n",
        "\n",
        "label_encoder = LabelEncoder()\n",
        "y_encoded = label_encoder.fit_transform(y)"
      ],
      "metadata": {
        "id": "m-zYhDz5ZKOx"
      },
      "execution_count": 7,
      "outputs": []
    },
    {
      "cell_type": "code",
      "source": [
        "X_train, X_test, y_train, y_test = train_test_split(X, y_encoded, test_size=0.25, random_state=42, stratify=y_encoded)"
      ],
      "metadata": {
        "id": "Hxo2lbnfZNrw"
      },
      "execution_count": 8,
      "outputs": []
    },
    {
      "cell_type": "code",
      "source": [
        "print(f\"\\nTraining set has {X_train.shape[0]} samples.\")\n",
        "print(f\"Testing set has {X_test.shape[0]} samples.\")"
      ],
      "metadata": {
        "colab": {
          "base_uri": "https://localhost:8080/"
        },
        "id": "wiMYLjPPZRHJ",
        "outputId": "3542b81d-3620-44f3-e36d-afaef6b3062f"
      },
      "execution_count": 9,
      "outputs": [
        {
          "output_type": "stream",
          "name": "stdout",
          "text": [
            "\n",
            "Training set has 11250 samples.\n",
            "Testing set has 3750 samples.\n"
          ]
        }
      ]
    },
    {
      "cell_type": "code",
      "source": [
        "preprocessor = ColumnTransformer(\n",
        "    transformers=[\n",
        "        ('cat', OneHotEncoder(handle_unknown='ignore'), features)\n",
        "    ])"
      ],
      "metadata": {
        "id": "sieScBSZbtnR"
      },
      "execution_count": 10,
      "outputs": []
    },
    {
      "cell_type": "code",
      "source": [
        "model = RandomForestClassifier(n_estimators=100, random_state=42, class_weight='balanced')"
      ],
      "metadata": {
        "id": "e8zfmN8EbvAf"
      },
      "execution_count": 11,
      "outputs": []
    },
    {
      "cell_type": "code",
      "source": [
        "pipeline = Pipeline(steps=[('preprocessor', preprocessor),\n",
        "                           ('classifier', model)])"
      ],
      "metadata": {
        "id": "s9r7qQHVb1Hx"
      },
      "execution_count": 12,
      "outputs": []
    },
    {
      "cell_type": "code",
      "source": [
        "print(\"\\n--- Training the AI model... ---\")\n",
        "pipeline.fit(X_train, y_train)\n",
        "print(\"Training complete!\")"
      ],
      "metadata": {
        "id": "--CxPf1Nb2_X",
        "outputId": "5d3322bc-0fa3-4aee-a912-ab45183d4c65",
        "colab": {
          "base_uri": "https://localhost:8080/"
        }
      },
      "execution_count": 13,
      "outputs": [
        {
          "output_type": "stream",
          "name": "stdout",
          "text": [
            "\n",
            "--- Training the AI model... ---\n",
            "Training complete!\n"
          ]
        }
      ]
    },
    {
      "cell_type": "code",
      "source": [
        "print(\"\\n--- Evaluating the model's performance on the test set: ---\")\n",
        "y_pred = pipeline.predict(X_test)"
      ],
      "metadata": {
        "id": "6meXU6DLcMiA",
        "outputId": "cf340944-26c7-4c26-9e0c-31fe92785bfc",
        "colab": {
          "base_uri": "https://localhost:8080/"
        }
      },
      "execution_count": 14,
      "outputs": [
        {
          "output_type": "stream",
          "name": "stdout",
          "text": [
            "\n",
            "--- Evaluating the model's performance on the test set: ---\n"
          ]
        }
      ]
    },
    {
      "cell_type": "code",
      "source": [
        "accuracy = accuracy_score(y_test, y_pred)\n",
        "print(f\"\\nModel Accuracy: {accuracy:.4f}\")"
      ],
      "metadata": {
        "id": "LIUp3w2vcP2f",
        "outputId": "76ee8500-4973-4275-d8f0-923b939519d5",
        "colab": {
          "base_uri": "https://localhost:8080/"
        }
      },
      "execution_count": 15,
      "outputs": [
        {
          "output_type": "stream",
          "name": "stdout",
          "text": [
            "\n",
            "Model Accuracy: 0.2456\n"
          ]
        }
      ]
    },
    {
      "cell_type": "code",
      "source": [
        "print(\"\\n--- Classification Report: ---\")\n",
        "print(classification_report(y_test, y_pred, target_names=label_encoder.classes_))"
      ],
      "metadata": {
        "id": "HREmuYY5cTsw",
        "outputId": "4c8c7138-e440-4883-bde2-66ec5a862c88",
        "colab": {
          "base_uri": "https://localhost:8080/"
        }
      },
      "execution_count": 16,
      "outputs": [
        {
          "output_type": "stream",
          "name": "stdout",
          "text": [
            "\n",
            "--- Classification Report: ---\n",
            "              precision    recall  f1-score   support\n",
            "\n",
            "          EN       0.24      0.24      0.24       930\n",
            "          EX       0.25      0.24      0.25       940\n",
            "          MI       0.25      0.26      0.26       945\n",
            "          SE       0.24      0.24      0.24       935\n",
            "\n",
            "    accuracy                           0.25      3750\n",
            "   macro avg       0.25      0.25      0.25      3750\n",
            "weighted avg       0.25      0.25      0.25      3750\n",
            "\n"
          ]
        }
      ]
    },
    {
      "cell_type": "code",
      "source": [
        "new_job_data = pd.DataFrame({\n",
        "    'job_title': ['Data Scientist'],\n",
        "    'company_size': ['L'],\n",
        "    'employment_type': ['FT'],\n",
        "    'industry': ['Finance']\n",
        "})\n",
        "\n",
        "predicted_level_encoded = pipeline.predict(new_job_data)\n",
        "predicted_level = label_encoder.inverse_transform(predicted_level_encoded)\n",
        "print(f\"\\n--> Predicted Experience Level: {predicted_level[0]}\")"
      ],
      "metadata": {
        "id": "_mFAbGkKcWRX",
        "outputId": "b10cb4be-1b93-4adf-fef8-d1edf755ad60",
        "colab": {
          "base_uri": "https://localhost:8080/"
        }
      },
      "execution_count": 17,
      "outputs": [
        {
          "output_type": "stream",
          "name": "stdout",
          "text": [
            "\n",
            "--> Predicted Experience Level: EN\n"
          ]
        }
      ]
    }
  ]
}